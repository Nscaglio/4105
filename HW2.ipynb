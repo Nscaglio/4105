{
  "nbformat": 4,
  "nbformat_minor": 0,
  "metadata": {
    "colab": {
      "provenance": [],
      "authorship_tag": "ABX9TyM9Ij3D3nF3YFNgnpGCISJS",
      "include_colab_link": true
    },
    "kernelspec": {
      "name": "python3",
      "display_name": "Python 3"
    },
    "language_info": {
      "name": "python"
    }
  },
  "cells": [
    {
      "cell_type": "markdown",
      "metadata": {
        "id": "view-in-github",
        "colab_type": "text"
      },
      "source": [
        "<a href=\"https://colab.research.google.com/github/Nscaglio/4105/blob/main/HW2.ipynb\" target=\"_parent\"><img src=\"https://colab.research.google.com/assets/colab-badge.svg\" alt=\"Open In Colab\"/></a>"
      ]
    },
    {
      "cell_type": "code",
      "execution_count": 1,
      "metadata": {
        "id": "8zz2nMtSRcWq",
        "colab": {
          "base_uri": "https://localhost:8080/"
        },
        "outputId": "3a4ac511-2efd-4760-fe62-8cc5d3ca7100"
      },
      "outputs": [
        {
          "output_type": "stream",
          "name": "stdout",
          "text": [
            "Mounted at /content/drive\n"
          ]
        }
      ],
      "source": [
        "import numpy as np\n",
        "import pandas as pd\n",
        "import matplotlib.pyplot as plt\n",
        "import seaborn as sns\n",
        "from google.colab import drive\n",
        "drive.mount('/content/drive')"
      ]
    },
    {
      "cell_type": "code",
      "source": [
        "file_path = '/content/drive/My Drive/ECGR4105/Datasets/Housing.csv'\n",
        "housing = pd.DataFrame(pd.read_csv(file_path))"
      ],
      "metadata": {
        "id": "U33-IsxDXQHt"
      },
      "execution_count": 2,
      "outputs": []
    },
    {
      "cell_type": "code",
      "source": [
        "#converts the yes/no to 1/0\n",
        "varlist =  ['mainroad', 'guestroom', 'basement', 'hotwaterheating', 'airconditioning', 'prefarea']\n",
        "def binary_map(x):\n",
        "    return x.map({'yes': 1, 'no': 0})\n",
        "housing[varlist] = housing[varlist].apply(binary_map)\n",
        "housing.head()"
      ],
      "metadata": {
        "colab": {
          "base_uri": "https://localhost:8080/",
          "height": 226
        },
        "id": "UhuEZ3ZDWzYN",
        "outputId": "0e6a0478-e860-450d-cac2-f0f316f10379"
      },
      "execution_count": 3,
      "outputs": [
        {
          "output_type": "execute_result",
          "data": {
            "text/plain": [
              "      price  area  bedrooms  bathrooms  stories  mainroad  guestroom  \\\n",
              "0  13300000  7420         4          2        3         1          0   \n",
              "1  12250000  8960         4          4        4         1          0   \n",
              "2  12250000  9960         3          2        2         1          0   \n",
              "3  12215000  7500         4          2        2         1          0   \n",
              "4  11410000  7420         4          1        2         1          1   \n",
              "\n",
              "   basement  hotwaterheating  airconditioning  parking  prefarea  \\\n",
              "0         0                0                1        2         1   \n",
              "1         0                0                1        3         0   \n",
              "2         1                0                0        2         1   \n",
              "3         1                0                1        3         1   \n",
              "4         1                0                1        2         0   \n",
              "\n",
              "  furnishingstatus  \n",
              "0        furnished  \n",
              "1        furnished  \n",
              "2   semi-furnished  \n",
              "3        furnished  \n",
              "4        furnished  "
            ],
            "text/html": [
              "\n",
              "  <div id=\"df-64d6c39a-7ecd-4899-8777-4da55715b09c\" class=\"colab-df-container\">\n",
              "    <div>\n",
              "<style scoped>\n",
              "    .dataframe tbody tr th:only-of-type {\n",
              "        vertical-align: middle;\n",
              "    }\n",
              "\n",
              "    .dataframe tbody tr th {\n",
              "        vertical-align: top;\n",
              "    }\n",
              "\n",
              "    .dataframe thead th {\n",
              "        text-align: right;\n",
              "    }\n",
              "</style>\n",
              "<table border=\"1\" class=\"dataframe\">\n",
              "  <thead>\n",
              "    <tr style=\"text-align: right;\">\n",
              "      <th></th>\n",
              "      <th>price</th>\n",
              "      <th>area</th>\n",
              "      <th>bedrooms</th>\n",
              "      <th>bathrooms</th>\n",
              "      <th>stories</th>\n",
              "      <th>mainroad</th>\n",
              "      <th>guestroom</th>\n",
              "      <th>basement</th>\n",
              "      <th>hotwaterheating</th>\n",
              "      <th>airconditioning</th>\n",
              "      <th>parking</th>\n",
              "      <th>prefarea</th>\n",
              "      <th>furnishingstatus</th>\n",
              "    </tr>\n",
              "  </thead>\n",
              "  <tbody>\n",
              "    <tr>\n",
              "      <th>0</th>\n",
              "      <td>13300000</td>\n",
              "      <td>7420</td>\n",
              "      <td>4</td>\n",
              "      <td>2</td>\n",
              "      <td>3</td>\n",
              "      <td>1</td>\n",
              "      <td>0</td>\n",
              "      <td>0</td>\n",
              "      <td>0</td>\n",
              "      <td>1</td>\n",
              "      <td>2</td>\n",
              "      <td>1</td>\n",
              "      <td>furnished</td>\n",
              "    </tr>\n",
              "    <tr>\n",
              "      <th>1</th>\n",
              "      <td>12250000</td>\n",
              "      <td>8960</td>\n",
              "      <td>4</td>\n",
              "      <td>4</td>\n",
              "      <td>4</td>\n",
              "      <td>1</td>\n",
              "      <td>0</td>\n",
              "      <td>0</td>\n",
              "      <td>0</td>\n",
              "      <td>1</td>\n",
              "      <td>3</td>\n",
              "      <td>0</td>\n",
              "      <td>furnished</td>\n",
              "    </tr>\n",
              "    <tr>\n",
              "      <th>2</th>\n",
              "      <td>12250000</td>\n",
              "      <td>9960</td>\n",
              "      <td>3</td>\n",
              "      <td>2</td>\n",
              "      <td>2</td>\n",
              "      <td>1</td>\n",
              "      <td>0</td>\n",
              "      <td>1</td>\n",
              "      <td>0</td>\n",
              "      <td>0</td>\n",
              "      <td>2</td>\n",
              "      <td>1</td>\n",
              "      <td>semi-furnished</td>\n",
              "    </tr>\n",
              "    <tr>\n",
              "      <th>3</th>\n",
              "      <td>12215000</td>\n",
              "      <td>7500</td>\n",
              "      <td>4</td>\n",
              "      <td>2</td>\n",
              "      <td>2</td>\n",
              "      <td>1</td>\n",
              "      <td>0</td>\n",
              "      <td>1</td>\n",
              "      <td>0</td>\n",
              "      <td>1</td>\n",
              "      <td>3</td>\n",
              "      <td>1</td>\n",
              "      <td>furnished</td>\n",
              "    </tr>\n",
              "    <tr>\n",
              "      <th>4</th>\n",
              "      <td>11410000</td>\n",
              "      <td>7420</td>\n",
              "      <td>4</td>\n",
              "      <td>1</td>\n",
              "      <td>2</td>\n",
              "      <td>1</td>\n",
              "      <td>1</td>\n",
              "      <td>1</td>\n",
              "      <td>0</td>\n",
              "      <td>1</td>\n",
              "      <td>2</td>\n",
              "      <td>0</td>\n",
              "      <td>furnished</td>\n",
              "    </tr>\n",
              "  </tbody>\n",
              "</table>\n",
              "</div>\n",
              "    <div class=\"colab-df-buttons\">\n",
              "\n",
              "  <div class=\"colab-df-container\">\n",
              "    <button class=\"colab-df-convert\" onclick=\"convertToInteractive('df-64d6c39a-7ecd-4899-8777-4da55715b09c')\"\n",
              "            title=\"Convert this dataframe to an interactive table.\"\n",
              "            style=\"display:none;\">\n",
              "\n",
              "  <svg xmlns=\"http://www.w3.org/2000/svg\" height=\"24px\" viewBox=\"0 -960 960 960\">\n",
              "    <path d=\"M120-120v-720h720v720H120Zm60-500h600v-160H180v160Zm220 220h160v-160H400v160Zm0 220h160v-160H400v160ZM180-400h160v-160H180v160Zm440 0h160v-160H620v160ZM180-180h160v-160H180v160Zm440 0h160v-160H620v160Z\"/>\n",
              "  </svg>\n",
              "    </button>\n",
              "\n",
              "  <style>\n",
              "    .colab-df-container {\n",
              "      display:flex;\n",
              "      gap: 12px;\n",
              "    }\n",
              "\n",
              "    .colab-df-convert {\n",
              "      background-color: #E8F0FE;\n",
              "      border: none;\n",
              "      border-radius: 50%;\n",
              "      cursor: pointer;\n",
              "      display: none;\n",
              "      fill: #1967D2;\n",
              "      height: 32px;\n",
              "      padding: 0 0 0 0;\n",
              "      width: 32px;\n",
              "    }\n",
              "\n",
              "    .colab-df-convert:hover {\n",
              "      background-color: #E2EBFA;\n",
              "      box-shadow: 0px 1px 2px rgba(60, 64, 67, 0.3), 0px 1px 3px 1px rgba(60, 64, 67, 0.15);\n",
              "      fill: #174EA6;\n",
              "    }\n",
              "\n",
              "    .colab-df-buttons div {\n",
              "      margin-bottom: 4px;\n",
              "    }\n",
              "\n",
              "    [theme=dark] .colab-df-convert {\n",
              "      background-color: #3B4455;\n",
              "      fill: #D2E3FC;\n",
              "    }\n",
              "\n",
              "    [theme=dark] .colab-df-convert:hover {\n",
              "      background-color: #434B5C;\n",
              "      box-shadow: 0px 1px 3px 1px rgba(0, 0, 0, 0.15);\n",
              "      filter: drop-shadow(0px 1px 2px rgba(0, 0, 0, 0.3));\n",
              "      fill: #FFFFFF;\n",
              "    }\n",
              "  </style>\n",
              "\n",
              "    <script>\n",
              "      const buttonEl =\n",
              "        document.querySelector('#df-64d6c39a-7ecd-4899-8777-4da55715b09c button.colab-df-convert');\n",
              "      buttonEl.style.display =\n",
              "        google.colab.kernel.accessAllowed ? 'block' : 'none';\n",
              "\n",
              "      async function convertToInteractive(key) {\n",
              "        const element = document.querySelector('#df-64d6c39a-7ecd-4899-8777-4da55715b09c');\n",
              "        const dataTable =\n",
              "          await google.colab.kernel.invokeFunction('convertToInteractive',\n",
              "                                                    [key], {});\n",
              "        if (!dataTable) return;\n",
              "\n",
              "        const docLinkHtml = 'Like what you see? Visit the ' +\n",
              "          '<a target=\"_blank\" href=https://colab.research.google.com/notebooks/data_table.ipynb>data table notebook</a>'\n",
              "          + ' to learn more about interactive tables.';\n",
              "        element.innerHTML = '';\n",
              "        dataTable['output_type'] = 'display_data';\n",
              "        await google.colab.output.renderOutput(dataTable, element);\n",
              "        const docLink = document.createElement('div');\n",
              "        docLink.innerHTML = docLinkHtml;\n",
              "        element.appendChild(docLink);\n",
              "      }\n",
              "    </script>\n",
              "  </div>\n",
              "\n",
              "\n",
              "<div id=\"df-ecc87264-2ab1-49e1-a330-86c3949c3ecd\">\n",
              "  <button class=\"colab-df-quickchart\" onclick=\"quickchart('df-ecc87264-2ab1-49e1-a330-86c3949c3ecd')\"\n",
              "            title=\"Suggest charts\"\n",
              "            style=\"display:none;\">\n",
              "\n",
              "<svg xmlns=\"http://www.w3.org/2000/svg\" height=\"24px\"viewBox=\"0 0 24 24\"\n",
              "     width=\"24px\">\n",
              "    <g>\n",
              "        <path d=\"M19 3H5c-1.1 0-2 .9-2 2v14c0 1.1.9 2 2 2h14c1.1 0 2-.9 2-2V5c0-1.1-.9-2-2-2zM9 17H7v-7h2v7zm4 0h-2V7h2v10zm4 0h-2v-4h2v4z\"/>\n",
              "    </g>\n",
              "</svg>\n",
              "  </button>\n",
              "\n",
              "<style>\n",
              "  .colab-df-quickchart {\n",
              "      --bg-color: #E8F0FE;\n",
              "      --fill-color: #1967D2;\n",
              "      --hover-bg-color: #E2EBFA;\n",
              "      --hover-fill-color: #174EA6;\n",
              "      --disabled-fill-color: #AAA;\n",
              "      --disabled-bg-color: #DDD;\n",
              "  }\n",
              "\n",
              "  [theme=dark] .colab-df-quickchart {\n",
              "      --bg-color: #3B4455;\n",
              "      --fill-color: #D2E3FC;\n",
              "      --hover-bg-color: #434B5C;\n",
              "      --hover-fill-color: #FFFFFF;\n",
              "      --disabled-bg-color: #3B4455;\n",
              "      --disabled-fill-color: #666;\n",
              "  }\n",
              "\n",
              "  .colab-df-quickchart {\n",
              "    background-color: var(--bg-color);\n",
              "    border: none;\n",
              "    border-radius: 50%;\n",
              "    cursor: pointer;\n",
              "    display: none;\n",
              "    fill: var(--fill-color);\n",
              "    height: 32px;\n",
              "    padding: 0;\n",
              "    width: 32px;\n",
              "  }\n",
              "\n",
              "  .colab-df-quickchart:hover {\n",
              "    background-color: var(--hover-bg-color);\n",
              "    box-shadow: 0 1px 2px rgba(60, 64, 67, 0.3), 0 1px 3px 1px rgba(60, 64, 67, 0.15);\n",
              "    fill: var(--button-hover-fill-color);\n",
              "  }\n",
              "\n",
              "  .colab-df-quickchart-complete:disabled,\n",
              "  .colab-df-quickchart-complete:disabled:hover {\n",
              "    background-color: var(--disabled-bg-color);\n",
              "    fill: var(--disabled-fill-color);\n",
              "    box-shadow: none;\n",
              "  }\n",
              "\n",
              "  .colab-df-spinner {\n",
              "    border: 2px solid var(--fill-color);\n",
              "    border-color: transparent;\n",
              "    border-bottom-color: var(--fill-color);\n",
              "    animation:\n",
              "      spin 1s steps(1) infinite;\n",
              "  }\n",
              "\n",
              "  @keyframes spin {\n",
              "    0% {\n",
              "      border-color: transparent;\n",
              "      border-bottom-color: var(--fill-color);\n",
              "      border-left-color: var(--fill-color);\n",
              "    }\n",
              "    20% {\n",
              "      border-color: transparent;\n",
              "      border-left-color: var(--fill-color);\n",
              "      border-top-color: var(--fill-color);\n",
              "    }\n",
              "    30% {\n",
              "      border-color: transparent;\n",
              "      border-left-color: var(--fill-color);\n",
              "      border-top-color: var(--fill-color);\n",
              "      border-right-color: var(--fill-color);\n",
              "    }\n",
              "    40% {\n",
              "      border-color: transparent;\n",
              "      border-right-color: var(--fill-color);\n",
              "      border-top-color: var(--fill-color);\n",
              "    }\n",
              "    60% {\n",
              "      border-color: transparent;\n",
              "      border-right-color: var(--fill-color);\n",
              "    }\n",
              "    80% {\n",
              "      border-color: transparent;\n",
              "      border-right-color: var(--fill-color);\n",
              "      border-bottom-color: var(--fill-color);\n",
              "    }\n",
              "    90% {\n",
              "      border-color: transparent;\n",
              "      border-bottom-color: var(--fill-color);\n",
              "    }\n",
              "  }\n",
              "</style>\n",
              "\n",
              "  <script>\n",
              "    async function quickchart(key) {\n",
              "      const quickchartButtonEl =\n",
              "        document.querySelector('#' + key + ' button');\n",
              "      quickchartButtonEl.disabled = true;  // To prevent multiple clicks.\n",
              "      quickchartButtonEl.classList.add('colab-df-spinner');\n",
              "      try {\n",
              "        const charts = await google.colab.kernel.invokeFunction(\n",
              "            'suggestCharts', [key], {});\n",
              "      } catch (error) {\n",
              "        console.error('Error during call to suggestCharts:', error);\n",
              "      }\n",
              "      quickchartButtonEl.classList.remove('colab-df-spinner');\n",
              "      quickchartButtonEl.classList.add('colab-df-quickchart-complete');\n",
              "    }\n",
              "    (() => {\n",
              "      let quickchartButtonEl =\n",
              "        document.querySelector('#df-ecc87264-2ab1-49e1-a330-86c3949c3ecd button');\n",
              "      quickchartButtonEl.style.display =\n",
              "        google.colab.kernel.accessAllowed ? 'block' : 'none';\n",
              "    })();\n",
              "  </script>\n",
              "</div>\n",
              "\n",
              "    </div>\n",
              "  </div>\n"
            ],
            "application/vnd.google.colaboratory.intrinsic+json": {
              "type": "dataframe",
              "variable_name": "housing",
              "summary": "{\n  \"name\": \"housing\",\n  \"rows\": 545,\n  \"fields\": [\n    {\n      \"column\": \"price\",\n      \"properties\": {\n        \"dtype\": \"number\",\n        \"std\": 1870439,\n        \"min\": 1750000,\n        \"max\": 13300000,\n        \"num_unique_values\": 219,\n        \"samples\": [\n          3773000,\n          5285000,\n          1820000\n        ],\n        \"semantic_type\": \"\",\n        \"description\": \"\"\n      }\n    },\n    {\n      \"column\": \"area\",\n      \"properties\": {\n        \"dtype\": \"number\",\n        \"std\": 2170,\n        \"min\": 1650,\n        \"max\": 16200,\n        \"num_unique_values\": 284,\n        \"samples\": [\n          6000,\n          2684,\n          5360\n        ],\n        \"semantic_type\": \"\",\n        \"description\": \"\"\n      }\n    },\n    {\n      \"column\": \"bedrooms\",\n      \"properties\": {\n        \"dtype\": \"number\",\n        \"std\": 0,\n        \"min\": 1,\n        \"max\": 6,\n        \"num_unique_values\": 6,\n        \"samples\": [\n          4,\n          3,\n          1\n        ],\n        \"semantic_type\": \"\",\n        \"description\": \"\"\n      }\n    },\n    {\n      \"column\": \"bathrooms\",\n      \"properties\": {\n        \"dtype\": \"number\",\n        \"std\": 0,\n        \"min\": 1,\n        \"max\": 4,\n        \"num_unique_values\": 4,\n        \"samples\": [\n          4,\n          3,\n          2\n        ],\n        \"semantic_type\": \"\",\n        \"description\": \"\"\n      }\n    },\n    {\n      \"column\": \"stories\",\n      \"properties\": {\n        \"dtype\": \"number\",\n        \"std\": 0,\n        \"min\": 1,\n        \"max\": 4,\n        \"num_unique_values\": 4,\n        \"samples\": [\n          4,\n          1,\n          3\n        ],\n        \"semantic_type\": \"\",\n        \"description\": \"\"\n      }\n    },\n    {\n      \"column\": \"mainroad\",\n      \"properties\": {\n        \"dtype\": \"number\",\n        \"std\": 0,\n        \"min\": 0,\n        \"max\": 1,\n        \"num_unique_values\": 2,\n        \"samples\": [\n          0,\n          1\n        ],\n        \"semantic_type\": \"\",\n        \"description\": \"\"\n      }\n    },\n    {\n      \"column\": \"guestroom\",\n      \"properties\": {\n        \"dtype\": \"number\",\n        \"std\": 0,\n        \"min\": 0,\n        \"max\": 1,\n        \"num_unique_values\": 2,\n        \"samples\": [\n          1,\n          0\n        ],\n        \"semantic_type\": \"\",\n        \"description\": \"\"\n      }\n    },\n    {\n      \"column\": \"basement\",\n      \"properties\": {\n        \"dtype\": \"number\",\n        \"std\": 0,\n        \"min\": 0,\n        \"max\": 1,\n        \"num_unique_values\": 2,\n        \"samples\": [\n          1,\n          0\n        ],\n        \"semantic_type\": \"\",\n        \"description\": \"\"\n      }\n    },\n    {\n      \"column\": \"hotwaterheating\",\n      \"properties\": {\n        \"dtype\": \"number\",\n        \"std\": 0,\n        \"min\": 0,\n        \"max\": 1,\n        \"num_unique_values\": 2,\n        \"samples\": [\n          1,\n          0\n        ],\n        \"semantic_type\": \"\",\n        \"description\": \"\"\n      }\n    },\n    {\n      \"column\": \"airconditioning\",\n      \"properties\": {\n        \"dtype\": \"number\",\n        \"std\": 0,\n        \"min\": 0,\n        \"max\": 1,\n        \"num_unique_values\": 2,\n        \"samples\": [\n          0,\n          1\n        ],\n        \"semantic_type\": \"\",\n        \"description\": \"\"\n      }\n    },\n    {\n      \"column\": \"parking\",\n      \"properties\": {\n        \"dtype\": \"number\",\n        \"std\": 0,\n        \"min\": 0,\n        \"max\": 3,\n        \"num_unique_values\": 4,\n        \"samples\": [\n          3,\n          1\n        ],\n        \"semantic_type\": \"\",\n        \"description\": \"\"\n      }\n    },\n    {\n      \"column\": \"prefarea\",\n      \"properties\": {\n        \"dtype\": \"number\",\n        \"std\": 0,\n        \"min\": 0,\n        \"max\": 1,\n        \"num_unique_values\": 2,\n        \"samples\": [\n          0,\n          1\n        ],\n        \"semantic_type\": \"\",\n        \"description\": \"\"\n      }\n    },\n    {\n      \"column\": \"furnishingstatus\",\n      \"properties\": {\n        \"dtype\": \"category\",\n        \"num_unique_values\": 3,\n        \"samples\": [\n          \"furnished\",\n          \"semi-furnished\"\n        ],\n        \"semantic_type\": \"\",\n        \"description\": \"\"\n      }\n    }\n  ]\n}"
            }
          },
          "metadata": {},
          "execution_count": 3
        }
      ]
    },
    {
      "cell_type": "code",
      "source": [
        "from sklearn.model_selection import train_test_split\n",
        "#sets the distribution rates for the training and test sets and distributes them\n",
        "np.random.seed(0)\n",
        "df_train, df_test = train_test_split(housing, train_size = 0.8, test_size = 0.2, random_state = 100)"
      ],
      "metadata": {
        "id": "_3CDF2N0Yg0w"
      },
      "execution_count": 11,
      "outputs": []
    },
    {
      "cell_type": "code",
      "source": [
        "def compute_cost(X, y, theta):\n",
        "    predictions = X.dot(theta)\n",
        "    errors = np.subtract(predictions, y)\n",
        "    J = 1 / (2 * m) * np.sum(np.square(errors))\n",
        "    return J"
      ],
      "metadata": {
        "id": "xKDoUv9Me7-Q"
      },
      "execution_count": 12,
      "outputs": []
    },
    {
      "cell_type": "code",
      "source": [
        "def gradient_descent(X_tr,X_test, y_tr,y_test, theta, alpha, iterations):\n",
        "    m = len(y)  # Number of training examples\n",
        "    loss_history = [] #starts an array iterations long\n",
        "    test_loss_history = []\n",
        "    for i in range(iterations):\n",
        "        predictions = X_tr.dot(theta)\n",
        "        errors = np.subtract(predictions, y)\n",
        "        sum_delta = (alpha/m ) * X_tr.transpose().dot(errors)\n",
        "        theta = theta - sum_delta          #sets this iterations theta\n",
        "        loss_history.append(compute_cost(X_tr, y_tr, theta))  # computes and saves the current iterations cost and adds it to the set\n",
        "        test_loss_history.append(compute_cost(X_test, y_test, theta)) # computes the loss of the current theta to the training set and adds it to the set\n",
        "\n",
        "    return theta, loss_history, test_loss_history"
      ],
      "metadata": {
        "id": "43ZegPSGfDHR"
      },
      "execution_count": 13,
      "outputs": []
    },
    {
      "cell_type": "markdown",
      "source": [
        "1.A"
      ],
      "metadata": {
        "id": "n6f6wOO7afF0"
      }
    },
    {
      "cell_type": "code",
      "source": [
        "#sets up the training data\n",
        "x1=df_train.values[:, 1]#area\n",
        "x2=df_train.values[:, 2]#bedrooms\n",
        "x3=df_train.values[:, 3]#bathrooms\n",
        "x4=df_train.values[:, 4]#stories\n",
        "x5=df_train.values[:, 10]#parking\n",
        "y=df_train.values[:, 0]#price\n",
        "m=len(y)\n",
        "X_0 = np.ones((m, 1))\n",
        "X_1 = x1.reshape(m, 1)\n",
        "X_2 = x2.reshape(m, 1)\n",
        "X_3 = x3.reshape(m, 1)\n",
        "X_4 = x5.reshape(m, 1)\n",
        "X_5 = x5.reshape(m, 1)\n",
        "X_train=np.hstack((X_0, X_1,X_2,X_3,X_4,X_5)) #stack the matricies\n",
        "theta=np.zeros(6)#set the theta for a 6D array\n",
        "#sets up testing set\n",
        "x1t=df_test.values[:, 1]#area\n",
        "x2t=df_test.values[:, 2]#bedrooms\n",
        "x3t=df_test.values[:, 3]#bathrooms\n",
        "x4t=df_test.values[:, 4]#stories\n",
        "x5t=df_test.values[:, 10]#parking\n",
        "yt=df_test.values[:, 0]#price\n",
        "mt=len(yt)\n",
        "X_0t = np.ones((mt, 1))\n",
        "X_1t = x1t.reshape(mt, 1)\n",
        "X_2t = x2t.reshape(mt, 1)\n",
        "X_3t = x3t.reshape(mt, 1)\n",
        "X_4t = x5t.reshape(mt, 1)\n",
        "X_5t = x5t.reshape(mt, 1)\n",
        "X_test=np.hstack((X_0t, X_1t,X_2t,X_3t,X_4t,X_5t)) #stack the matricies"
      ],
      "metadata": {
        "id": "2d2AE_JUajdO"
      },
      "execution_count": 14,
      "outputs": []
    },
    {
      "cell_type": "code",
      "source": [
        "iterations = 1500\n",
        "alpha = 0.05"
      ],
      "metadata": {
        "id": "avY4Nfq0f_k1"
      },
      "execution_count": 15,
      "outputs": []
    },
    {
      "cell_type": "code",
      "source": [
        "theta, train_cost, test_cost = gradient_descent(X_train, X_test, y, yt, theta, alpha, iterations) #calculate the gradient"
      ],
      "metadata": {
        "colab": {
          "base_uri": "https://localhost:8080/"
        },
        "id": "-fU4POnTrnbM",
        "outputId": "8106e7cc-64f1-4472-f9e6-8f3c1c1696c4"
      },
      "execution_count": 9,
      "outputs": [
        {
          "output_type": "stream",
          "name": "stderr",
          "text": [
            "<ipython-input-5-fd94d82daba3>:4: RuntimeWarning: overflow encountered in square\n",
            "  J = 1 / (2 * m) * np.sum(np.square(errors))\n",
            "<ipython-input-6-ea7a4d1c7924>:9: RuntimeWarning: invalid value encountered in subtract\n",
            "  theta = theta - sum_delta          #sets this iterations theta\n"
          ]
        }
      ]
    },
    {
      "cell_type": "code",
      "source": [
        "#plot the loss through the iterations for both training and test\n",
        "plt.plot(train_cost, label=\"Training Loss\")\n",
        "plt.plot(test_cost, label=\"Validation Loss\")\n",
        "plt.xlabel(\"Iteration\")\n",
        "plt.ylabel(\"Loss\")\n",
        "plt.legend()\n",
        "plt.title(\"Training and Validation Loss Over Iterations\")\n",
        "plt.show()"
      ],
      "metadata": {
        "colab": {
          "base_uri": "https://localhost:8080/",
          "height": 556
        },
        "id": "scTp26PBgNQT",
        "outputId": "cc81f859-1e25-4ee9-8cdb-08936eb571c1"
      },
      "execution_count": 84,
      "outputs": [
        {
          "output_type": "display_data",
          "data": {
            "text/plain": [
              "<Figure size 1000x600 with 1 Axes>"
            ],
            "image/png": "[encoded data removed]"
          },
          "metadata": {}
        }
      ]
    },
    {
      "cell_type": "markdown",
      "source": [
        "1.B"
      ],
      "metadata": {
        "id": "ucnSnqQgmhsZ"
      }
    },
    {
      "cell_type": "code",
      "source": [
        "#sets up the training data\n",
        "x1=df_train.values[:, 1]#area\n",
        "x2=df_train.values[:, 2]#bedrooms\n",
        "x3=df_train.values[:, 3]#bathrooms\n",
        "x4=df_train.values[:, 4]#stories\n",
        "x5=df_train.values[:, 5]#mainroad\n",
        "x6=df_train.values[:, 6]#guestroom\n",
        "x7=df_train.values[:, 7]#basement\n",
        "x8=df_train.values[:, 8]#hotwater\n",
        "x9=df_train.values[:, 9]#airconditioning\n",
        "x10=df_train.values[:, 10]#parking\n",
        "x11=df_train.values[:, 11]#prefarea\n",
        "y=df_train.values[:, 0]#price\n",
        "m=len(y)\n",
        "X_0 = np.ones((m, 1))\n",
        "X_1 = x1.reshape(m, 1)\n",
        "X_2 = x2.reshape(m, 1)\n",
        "X_3 = x3.reshape(m, 1)\n",
        "X_4 = x5.reshape(m, 1)\n",
        "X_5 = x5.reshape(m, 1)\n",
        "X_6 = x6.reshape(m, 1)\n",
        "X_7 = x7.reshape(m, 1)\n",
        "X_8 = x8.reshape(m, 1)\n",
        "X_9 = x9.reshape(m, 1)\n",
        "X_10 = x10.reshape(m, 1)\n",
        "X_11 = x11.reshape(m, 1)\n",
        "X_train2=np.hstack((X_0, X_1,X_2,X_3,X_4,X_5,X_6,X_7,X_8,X_9,X_10,X_11)) #stack the matricies\n",
        "theta2=np.zeros(12)#set the theta for a 12D array\n",
        "#sets up testing set\n",
        "#sets up the training data\n",
        "x1t=df_test.values[:, 1]#area\n",
        "x2t=df_test.values[:, 2]#bedrooms\n",
        "x3t=df_test.values[:, 3]#bathrooms\n",
        "x4t=df_test.values[:, 4]#stories\n",
        "x5t=df_test.values[:, 5]#mainroad\n",
        "x6t=df_test.values[:, 6]#guestroom\n",
        "x7t=df_test.values[:, 7]#basement\n",
        "x8t=df_test.values[:, 8]#hotwater\n",
        "x9t=df_test.values[:, 9]#airconditioning\n",
        "x10t=df_test.values[:, 10]#parking\n",
        "x11t=df_test.values[:, 11]#prefarea\n",
        "yt=df_test.values[:, 0]#price\n",
        "mt=len(yt)\n",
        "X_0t = np.ones((mt, 1))\n",
        "X_1t = x1t.reshape(mt, 1)\n",
        "X_2t = x2t.reshape(mt, 1)\n",
        "X_3t = x3t.reshape(mt, 1)\n",
        "X_4t = x5t.reshape(mt, 1)\n",
        "X_5t = x5t.reshape(mt, 1)\n",
        "X_6t = x6t.reshape(mt, 1)\n",
        "X_7t = x7t.reshape(mt, 1)\n",
        "X_8t = x8t.reshape(mt, 1)\n",
        "X_9t = x9t.reshape(mt, 1)\n",
        "X_10t = x10t.reshape(mt, 1)\n",
        "X_11t = x11t.reshape(mt, 1)\n",
        "X_test2=np.hstack((X_0t, X_1t,X_2t,X_3t,X_4t,X_5t,X_6t,X_7t,X_8t,X_9t,X_10t,X_11t)) #stack the matricies"
      ],
      "metadata": {
        "id": "pjllA5J2mldM"
      },
      "execution_count": 85,
      "outputs": []
    },
    {
      "cell_type": "code",
      "source": [
        "theta, train_cost2, test_cost2 = gradient_descent(X_train2, X_test2, y, yt, theta2, alpha, iterations) #calculate the gradient"
      ],
      "metadata": {
        "id": "SNHURLbxpr8k"
      },
      "execution_count": 88,
      "outputs": []
    },
    {
      "cell_type": "code",
      "source": [
        "#plot the loss through the iterations for both training and test\n",
        "plt.plot(train_cost2, label=\"Training Loss\")\n",
        "plt.plot(test_cost2, label=\"Validation Loss\")\n",
        "plt.xlabel(\"Iteration\")\n",
        "plt.ylabel(\"Loss\")\n",
        "plt.legend()\n",
        "plt.title(\"Training and Validation Loss Over Iterations\")\n",
        "plt.show()"
      ],
      "metadata": {
        "colab": {
          "base_uri": "https://localhost:8080/",
          "height": 556
        },
        "id": "XsRIRNtqrVqw",
        "outputId": "f3140997-9c2d-4a04-e243-b2cc42d7f3f3"
      },
      "execution_count": 87,
      "outputs": [
        {
          "output_type": "display_data",
          "data": {
            "text/plain": [
              "<Figure size 1000x600 with 1 Axes>"
            ],
            "image/png": "[encoded data removed]"
          },
          "metadata": {}
        }
      ]
    },
    {
      "cell_type": "markdown",
      "source": [
        "2.A"
      ],
      "metadata": {
        "id": "j_O00puUs1fU"
      }
    },
    {
      "cell_type": "code",
      "source": [
        "from sklearn.preprocessing import MinMaxScaler\n",
        "\n",
        "scaler = MinMaxScaler()\n",
        "from sklearn.preprocessing import StandardScaler\n",
        "standard_scaler = StandardScaler()\n",
        "num_vars = ['area', 'bedrooms', 'bathrooms', 'stories', 'parking']\n",
        "num_vars2 = ['area', 'bedrooms', 'bathrooms', 'stories', 'parking','price']\n",
        "df_train_norm = df_train.copy()\n",
        "df_test_norm = df_test.copy()\n",
        "df_train_standard=df_train.copy()\n",
        "df_test_standard=df_test.copy()\n",
        "# normalizes\n",
        "df_train_norm[num_vars] = scaler.fit_transform(df_train[num_vars])\n",
        "df_test_norm[num_vars] = scaler.fit_transform(df_test[num_vars])\n",
        "#standardize\n",
        "df_train_standard[num_vars2] = standard_scaler.fit_transform(df_train[num_vars2])\n",
        "df_test_standard[num_vars2] = standard_scaler.transform(df_test[num_vars2])"
      ],
      "metadata": {
        "id": "HcOCEFflsTkX"
      },
      "execution_count": 91,
      "outputs": []
    },
    {
      "cell_type": "markdown",
      "source": [
        "Normalized prediction"
      ],
      "metadata": {
        "id": "xoOuyUTIvySk"
      }
    },
    {
      "cell_type": "code",
      "source": [
        "#sets up the training data\n",
        "x1=df_train_norm.values[:, 1]#area\n",
        "x2=df_train_norm.values[:, 2]#bedrooms\n",
        "x3=df_train_norm.values[:, 3]#bathrooms\n",
        "x4=df_train_norm.values[:, 4]#stories\n",
        "x5=df_train_norm.values[:, 10]#parking\n",
        "y=df_train_norm.values[:, 0]#price\n",
        "m=len(y)\n",
        "X_0 = np.ones((m, 1))\n",
        "X_1 = x1.reshape(m, 1)\n",
        "X_2 = x2.reshape(m, 1)\n",
        "X_3 = x3.reshape(m, 1)\n",
        "X_4 = x5.reshape(m, 1)\n",
        "X_5 = x5.reshape(m, 1)\n",
        "X_train=np.hstack((X_0, X_1,X_2,X_3,X_4,X_5)) #stack the matricies\n",
        "theta=np.zeros(6)#set the theta for a 6D array\n",
        "#sets up testing set\n",
        "x1t=df_test_norm.values[:, 1]#area\n",
        "x2t=df_test_norm.values[:, 2]#bedrooms\n",
        "x3t=df_test_norm.values[:, 3]#bathrooms\n",
        "x4t=df_test_norm.values[:, 4]#stories\n",
        "x5t=df_test_norm.values[:, 10]#parking\n",
        "yt=df_test_norm.values[:, 0]#price\n",
        "mt=len(yt)\n",
        "X_0t = np.ones((mt, 1))\n",
        "X_1t = x1t.reshape(mt, 1)\n",
        "X_2t = x2t.reshape(mt, 1)\n",
        "X_3t = x3t.reshape(mt, 1)\n",
        "X_4t = x5t.reshape(mt, 1)\n",
        "X_5t = x5t.reshape(mt, 1)\n",
        "X_test=np.hstack((X_0t, X_1t,X_2t,X_3t,X_4t,X_5t)) #stack the matricies"
      ],
      "metadata": {
        "id": "HZ6qIR28sWmb"
      },
      "execution_count": null,
      "outputs": []
    },
    {
      "cell_type": "code",
      "source": [
        "theta, train_cost, test_cost = gradient_descent(X_train, X_test, y, yt, theta, alpha, iterations) #calculate the gradient"
      ],
      "metadata": {
        "id": "A2pw33O_seeQ"
      },
      "execution_count": null,
      "outputs": []
    },
    {
      "cell_type": "code",
      "source": [
        "#plot the loss through the iterations for both training and test\n",
        "plt.plot(train_cost, label=\"Training Loss\")\n",
        "plt.plot(test_cost, label=\"Validation Loss\")\n",
        "plt.xlabel(\"Iteration\")\n",
        "plt.ylabel(\"Loss\")\n",
        "plt.legend()\n",
        "plt.title(\"Training and Validation Loss Over Iterations\")\n",
        "plt.show()"
      ],
      "metadata": {
        "id": "gnRSJCVjsqAn"
      },
      "execution_count": null,
      "outputs": []
    },
    {
      "cell_type": "markdown",
      "source": [
        "standardized prediction"
      ],
      "metadata": {
        "id": "yaKh8jdzv1ad"
      }
    },
    {
      "cell_type": "markdown",
      "source": [
        "2.B"
      ],
      "metadata": {
        "id": "8EU56akzvUls"
      }
    },
    {
      "cell_type": "code",
      "source": [
        "#sets up the training data\n",
        "x1=df_train.values[:, 1]#area\n",
        "x2=df_train.values[:, 2]#bedrooms\n",
        "x3=df_train.values[:, 3]#bathrooms\n",
        "x4=df_train.values[:, 4]#stories\n",
        "x5=df_train.values[:, 5]#mainroad\n",
        "x6=df_train.values[:, 6]#guestroom\n",
        "x7=df_train.values[:, 7]#basement\n",
        "x8=df_train.values[:, 8]#hotwater\n",
        "x9=df_train.values[:, 9]#airconditioning\n",
        "x10=df_train.values[:, 10]#parking\n",
        "x11=df_train.values[:, 11]#prefarea\n",
        "y=df_train.values[:, 0]#price\n",
        "m=len(y)\n",
        "X_0 = np.ones((m, 1))\n",
        "X_1 = x1.reshape(m, 1)\n",
        "X_2 = x2.reshape(m, 1)\n",
        "X_3 = x3.reshape(m, 1)\n",
        "X_4 = x5.reshape(m, 1)\n",
        "X_5 = x5.reshape(m, 1)\n",
        "X_6 = x6.reshape(m, 1)\n",
        "X_7 = x7.reshape(m, 1)\n",
        "X_8 = x8.reshape(m, 1)\n",
        "X_9 = x9.reshape(m, 1)\n",
        "X_10 = x10.reshape(m, 1)\n",
        "X_11 = x11.reshape(m, 1)\n",
        "X_train2=np.hstack((X_0, X_1,X_2,X_3,X_4,X_5,X_6,X_7,X_8,X_9,X_10,X_11)) #stack the matricies\n",
        "theta2=np.zeros(12)#set the theta for a 12D array\n",
        "#sets up testing set\n",
        "#sets up the training data\n",
        "x1t=df_test.values[:, 1]#area\n",
        "x2t=df_test.values[:, 2]#bedrooms\n",
        "x3t=df_test.values[:, 3]#bathrooms\n",
        "x4t=df_test.values[:, 4]#stories\n",
        "x5t=df_test.values[:, 5]#mainroad\n",
        "x6t=df_test.values[:, 6]#guestroom\n",
        "x7t=df_test.values[:, 7]#basement\n",
        "x8t=df_test.values[:, 8]#hotwater\n",
        "x9t=df_test.values[:, 9]#airconditioning\n",
        "x10t=df_test.values[:, 10]#parking\n",
        "x11t=df_test.values[:, 11]#prefarea\n",
        "yt=df_test.values[:, 0]#price\n",
        "mt=len(yt)\n",
        "X_0t = np.ones((mt, 1))\n",
        "X_1t = x1t.reshape(mt, 1)\n",
        "X_2t = x2t.reshape(mt, 1)\n",
        "X_3t = x3t.reshape(mt, 1)\n",
        "X_4t = x5t.reshape(mt, 1)\n",
        "X_5t = x5t.reshape(mt, 1)\n",
        "X_6t = x6t.reshape(mt, 1)\n",
        "X_7t = x7t.reshape(mt, 1)\n",
        "X_8t = x8t.reshape(mt, 1)\n",
        "X_9t = x9t.reshape(mt, 1)\n",
        "X_10t = x10t.reshape(mt, 1)\n",
        "X_11t = x11t.reshape(mt, 1)\n",
        "X_test2=np.hstack((X_0t, X_1t,X_2t,X_3t,X_4t,X_5t,X_6t,X_7t,X_8t,X_9t,X_10t,X_11t)) #stack the matricies"
      ],
      "metadata": {
        "id": "XsOXFrAztAjv"
      },
      "execution_count": null,
      "outputs": []
    },
    {
      "cell_type": "code",
      "source": [
        "theta, train_cost2, test_cost2 = gradient_descent(X_train2, X_test2, y, yt, theta2, alpha, iterations) #calculate the gradient"
      ],
      "metadata": {
        "id": "02lEBkZvtIar"
      },
      "execution_count": null,
      "outputs": []
    },
    {
      "cell_type": "code",
      "source": [
        "#plot the loss through the iterations for both training and test\n",
        "plt.plot(train_cost2, label=\"Training Loss\")\n",
        "plt.plot(test_cost2, label=\"Validation Loss\")\n",
        "plt.xlabel(\"Iteration\")\n",
        "plt.ylabel(\"Loss\")\n",
        "plt.legend()\n",
        "plt.title(\"Training and Validation Loss Over Iterations\")\n",
        "plt.show()"
      ],
      "metadata": {
        "id": "wpE0YhXotQeU"
      },
      "execution_count": null,
      "outputs": []
    },
    {
      "cell_type": "markdown",
      "source": [],
      "metadata": {
        "id": "6H3JfFWUmrDA"
      }
    }
  ]
}